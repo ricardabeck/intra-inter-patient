{
 "cells": [
  {
   "cell_type": "markdown",
   "metadata": {},
   "source": [
    "# Performance Evaluation Steps"
   ]
  },
  {
   "cell_type": "code",
   "execution_count": 3,
   "metadata": {},
   "outputs": [
    {
     "name": "stderr",
     "output_type": "stream",
     "text": [
      "2025-03-28 10:57:42.977317: E external/local_xla/xla/stream_executor/cuda/cuda_fft.cc:477] Unable to register cuFFT factory: Attempting to register factory for plugin cuFFT when one has already been registered\n",
      "WARNING: All log messages before absl::InitializeLog() is called are written to STDERR\n",
      "E0000 00:00:1743159462.993491 1271107 cuda_dnn.cc:8310] Unable to register cuDNN factory: Attempting to register factory for plugin cuDNN when one has already been registered\n",
      "E0000 00:00:1743159462.998529 1271107 cuda_blas.cc:1418] Unable to register cuBLAS factory: Attempting to register factory for plugin cuBLAS when one has already been registered\n",
      "2025-03-28 10:57:43.016401: I tensorflow/core/platform/cpu_feature_guard.cc:210] This TensorFlow binary is optimized to use available CPU instructions in performance-critical operations.\n",
      "To enable the following instructions: AVX2 FMA, in other operations, rebuild TensorFlow with the appropriate compiler flags.\n",
      "/home/rbeck1_sw/inter-intra-patient/venv_tf/lib/python3.12/site-packages/tensorflow_addons/utils/tfa_eol_msg.py:23: UserWarning: \n",
      "\n",
      "TensorFlow Addons (TFA) has ended development and introduction of new features.\n",
      "TFA has entered a minimal maintenance and release mode until a planned end of life in May 2024.\n",
      "Please modify downstream libraries to take dependencies from other repositories in our TensorFlow community (e.g. Keras, Keras-CV, and Keras-NLP). \n",
      "\n",
      "For more information see: https://github.com/tensorflow/addons/issues/2807 \n",
      "\n",
      "  warnings.warn(\n",
      "/home/rbeck1_sw/inter-intra-patient/venv_tf/lib/python3.12/site-packages/tensorflow_addons/utils/ensure_tf_install.py:53: UserWarning: Tensorflow Addons supports using Python ops for all Tensorflow versions above or equal to 2.13.0 and strictly below 2.16.0 (nightly versions are not supported). \n",
      " The versions of TensorFlow you are currently using is 2.18.0 and is not supported. \n",
      "Some things might work, some things might not.\n",
      "If you were to encounter a bug, do not file an issue.\n",
      "If you want to make sure you're using a tested and supported configuration, either change the TensorFlow version or the TensorFlow Addons's version. \n",
      "You can find the compatibility matrix in TensorFlow Addon's readme:\n",
      "https://github.com/tensorflow/addons\n",
      "  warnings.warn(\n"
     ]
    }
   ],
   "source": [
    "import numpy as np\n",
    "import matplotlib.pyplot as plt\n",
    "import scipy.io as spio\n",
    "import tensorflow as tf\n",
    "import tensorflow_addons as tfa\n",
    "from os.path import join as osj\n",
    "\n",
    "from tensorflow.keras.layers import Conv1D, MaxPooling1D, LSTM, Embedding, Dense, Bidirectional, Input\n",
    "from tensorflow.keras import Model\n",
    "\n",
    "import random\n",
    "import pickle\n",
    "import time\n",
    "import os\n",
    "import argparse\n",
    "\n",
    "from datetime import datetime\n",
    "from sklearn.metrics import confusion_matrix\n",
    "from  sklearn.preprocessing import MinMaxScaler\n",
    "from sklearn.model_selection import train_test_split\n",
    "from imblearn.over_sampling import SMOTE\n",
    "\n",
    "import logging\n",
    "logging.basicConfig(\n",
    "    format=\"%(asctime)s - %(levelname)s - %(message)s\",\n",
    "    level=logging.INFO,\n",
    "    datefmt=\"%Y-%m-%d %H:%M:%S\"\n",
    ")\n",
    "logger = logging.getLogger()\n",
    "\n",
    "random.seed(654)"
   ]
  },
  {
   "cell_type": "markdown",
   "metadata": {},
   "source": [
    "## Functions "
   ]
  },
  {
   "cell_type": "code",
   "execution_count": 4,
   "metadata": {},
   "outputs": [],
   "source": [
    "def load_performances():\n",
    "\n",
    "    with open(osj(f\"../results/intrapatient/test_results.pkl\"), 'rb') as f:\n",
    "        intra_results = pickle.load(f)\n",
    "\n",
    "    with open(osj(f\"../results/interpatient/test_results.pkl\"), 'rb') as f:\n",
    "        inter_results = pickle.load(f)\n",
    "\n",
    "    return intra_results, inter_results"
   ]
  },
  {
   "cell_type": "code",
   "execution_count": 5,
   "metadata": {},
   "outputs": [],
   "source": [
    "intra_results, inter_results = load_performances()"
   ]
  },
  {
   "cell_type": "code",
   "execution_count": 6,
   "metadata": {},
   "outputs": [
    {
     "data": {
      "text/plain": [
       "{'avg_acc': np.float32(0.99923265),\n",
       " 'acc': array([0.999604  , 0.9985149 , 0.9988614 , 0.99995047], dtype=float32),\n",
       " 'sens': array([1.        , 0.9983471 , 0.99830794, 1.        ], dtype=float32),\n",
       " 'spec': array([0.9996006 , 1.        , 0.99887806, 0.99994713], dtype=float32),\n",
       " 'prec': array([0.9550562, 1.       , 0.9640523, 0.9992248], dtype=float32),\n",
       " 'neg_pred_value': array([1.        , 0.98557705, 0.9999489 , 1.        ], dtype=float32),\n",
       " 'false_pos_rate': array([3.9940077e-04, 0.0000000e+00, 1.1219329e-03, 5.2879579e-05],\n",
       "       dtype=float32),\n",
       " 'false_neg_rate': array([0.        , 0.00165288, 0.00169206, 0.        ], dtype=float32),\n",
       " 'false_det_rate': array([0.04494381, 0.        , 0.03594768, 0.0007752 ], dtype=float32),\n",
       " 'f1_score': array([0.9770115, 0.9991729, 0.9808811, 0.9996122], dtype=float32)}"
      ]
     },
     "execution_count": 6,
     "metadata": {},
     "output_type": "execute_result"
    }
   ],
   "source": [
    "intra_results"
   ]
  },
  {
   "cell_type": "code",
   "execution_count": 7,
   "metadata": {},
   "outputs": [
    {
     "data": {
      "text/plain": [
       "{'avg_acc': np.float32(0.9603388),\n",
       " 'acc': array([0.94099593, 0.9412805 , 0.99873984], dtype=float32),\n",
       " 'sens': array([0.9351273, 0.9656863, 1.       ], dtype=float32),\n",
       " 'spec': array([0.9922802 , 0.94033444, 0.99865174], dtype=float32),\n",
       " 'prec': array([0.9990562 , 0.38551858, 0.9810861 ], dtype=float32),\n",
       " 'neg_pred_value': array([0.63640976, 0.9985874 , 1.        ], dtype=float32),\n",
       " 'false_pos_rate': array([0.00771983, 0.05966557, 0.00134829], dtype=float32),\n",
       " 'false_neg_rate': array([0.06487268, 0.03431369, 0.        ], dtype=float32),\n",
       " 'false_det_rate': array([0.0009438 , 0.6144814 , 0.01891395], dtype=float32),\n",
       " 'f1_score': array([0.96603525, 0.55104893, 0.99045277], dtype=float32)}"
      ]
     },
     "execution_count": 7,
     "metadata": {},
     "output_type": "execute_result"
    }
   ],
   "source": [
    "inter_results"
   ]
  },
  {
   "cell_type": "code",
   "execution_count": null,
   "metadata": {},
   "outputs": [],
   "source": []
  }
 ],
 "metadata": {
  "kernelspec": {
   "display_name": "venv_tf",
   "language": "python",
   "name": "python3"
  },
  "language_info": {
   "codemirror_mode": {
    "name": "ipython",
    "version": 3
   },
   "file_extension": ".py",
   "mimetype": "text/x-python",
   "name": "python",
   "nbconvert_exporter": "python",
   "pygments_lexer": "ipython3",
   "version": "3.12.7"
  }
 },
 "nbformat": 4,
 "nbformat_minor": 2
}
